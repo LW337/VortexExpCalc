{
 "cells": [
  {
   "cell_type": "code",
   "execution_count": 59,
   "metadata": {
    "jupyter": {
     "source_hidden": true
    }
   },
   "outputs": [],
   "source": [
    "import numpy as np\n",
    "import matplotlib.pyplot as plt"
   ]
  },
  {
   "cell_type": "code",
   "execution_count": 60,
   "metadata": {},
   "outputs": [],
   "source": [
    "targetPoints = 100"
   ]
  },
  {
   "cell_type": "code",
   "execution_count": 61,
   "metadata": {},
   "outputs": [],
   "source": [
    "#Found on your Profile Page\n",
    "currentTotal = 9000\n",
    "currentBattles = 1\n",
    "currentUniques = 1\n",
    "\n",
    "#Found Under View All Pokemon\n",
    "currentCaught = 1\n",
    "\n",
    "#Used for Events\n",
    "DoubleExp = False"
   ]
  },
  {
   "cell_type": "code",
   "execution_count": 62,
   "metadata": {
    "jupyter": {
     "source_hidden": true
    }
   },
   "outputs": [
    {
     "name": "stdout",
     "output_type": "stream",
     "text": [
      "Points : 0\n",
      "Total Exp : 9000\n",
      "Average Exp : 9000\n",
      "Battles : 1\n",
      "Uniques : 1\n"
     ]
    }
   ],
   "source": [
    "currentAvg = (currentTotal / currentCaught)\n",
    "currentPoints = np.sqrt(currentTotal) * np.sqrt(currentAvg) * np.log(currentBattles) * np.sqrt(currentUniques)\n",
    "if currentPoints >= 1000:\n",
    "    currentPoints = round(currentPoints / 1000)\n",
    "else:\n",
    "    currentPoints = 0\n",
    "\n",
    "print(f\"Points : {currentPoints}\")\n",
    "print(f\"Total Exp : {currentTotal}\")\n",
    "print(f\"Average Exp : {round(currentAvg)}\")\n",
    "print(f\"Battles : {currentBattles}\")\n",
    "print(f\"Uniques : {currentUniques}\")"
   ]
  },
  {
   "cell_type": "markdown",
   "metadata": {},
   "source": [
    "Exp Grinding with a Lvl 100"
   ]
  },
  {
   "cell_type": "code",
   "execution_count": 63,
   "metadata": {},
   "outputs": [
    {
     "name": "stdout",
     "output_type": "stream",
     "text": [
      "Level 100 Exp Grinding\n",
      "Points Remaining: 100\n",
      "Battles Needed: 11\n",
      "Exp Needed: 33000\n",
      "Target Exp Needed: 42000\n"
     ]
    }
   ],
   "source": [
    "#Battle Simulation\n",
    "finalpoints = currentPoints\n",
    "finalTotal = currentTotal\n",
    "finalBattles = currentBattles\n",
    "\n",
    "while finalpoints < targetPoints:\n",
    "    finalBattles += 1\n",
    "    if DoubleExp == True:\n",
    "        finalTotal += 6000\n",
    "    else:\n",
    "        finalTotal += 3000\n",
    "    finalAvg = finalTotal / currentCaught\n",
    "    finalpoints = np.sqrt(finalTotal) * np.sqrt(finalAvg) * np.log(finalBattles) * np.sqrt(currentUniques)\n",
    "    finalpoints = round(finalpoints / 1000)\n",
    "\n",
    "\n",
    "print(\"Level 100 Exp Grinding\")\n",
    "print(\"Points Remaining: \" + str(targetPoints - currentPoints))\n",
    "print(\"Battles Needed: \" + str(finalBattles - currentBattles))\n",
    "print(\"Exp Needed: \" + str(finalTotal - currentTotal))\n",
    "\n",
    "print(\"Target Exp Needed: \" + str(finalTotal))"
   ]
  },
  {
   "cell_type": "markdown",
   "metadata": {},
   "source": [
    "Exp through Catching and Training Immunes"
   ]
  },
  {
   "cell_type": "code",
   "execution_count": 64,
   "metadata": {
    "jupyter": {
     "source_hidden": true
    }
   },
   "outputs": [
    {
     "name": "stdout",
     "output_type": "stream",
     "text": [
      "Immune Catching and Training\n",
      "Points Remaining: 100\n",
      "Exp Needed: 159000\n",
      "Catches Needed: 3\n"
     ]
    }
   ],
   "source": [
    "#Immune Spam\n",
    "finalpoints = currentPoints\n",
    "finalTotal = currentTotal\n",
    "finalCaught = currentCaught\n",
    "finalBattles = currentBattles\n",
    "\n",
    "while finalpoints < targetPoints:\n",
    "    if DoubleExp == True:\n",
    "        finalTotal += 103000\n",
    "    else:\n",
    "        finalTotal += 53000\n",
    "    finalCaught += 1\n",
    "    finalBattles += 1\n",
    "    finalAvg = finalTotal / finalCaught\n",
    "    finalpoints = np.sqrt(finalTotal) * np.sqrt(finalAvg) * np.log(finalBattles) * np.sqrt(currentUniques)\n",
    "    finalpoints = round(finalpoints / 1000)\n",
    "\n",
    "print(\"Immune Catching and Training\")\n",
    "print(\"Points Remaining: \" + str(targetPoints - currentPoints))\n",
    "print(\"Exp Needed: \" + str(finalTotal - currentTotal))\n",
    "print(\"Catches Needed: \" + str(finalBattles - currentBattles))\n"
   ]
  },
  {
   "cell_type": "code",
   "execution_count": 65,
   "metadata": {
    "jupyter": {
     "source_hidden": true
    }
   },
   "outputs": [],
   "source": [
    "#List of Accounts / Exp Yields\n",
    "\n",
    "exp_modifiers = {\n",
    "    \"any Level 6\": 30,\n",
    "    \"any Level 7\": 35,\n",
    "    \"any Level 8\": 40,\n",
    "    \"any Level 9\": 45,\n",
    "    \"any Level 10\": 50,\n",
    "    \"any Level 11\": 55,\n",
    "    \"any Level 12\": 60,\n",
    "    \"any Level 13\": 65,\n",
    "    \"any Level 14\": 70,\n",
    "    \"any Level 15\": 75,\n",
    "    \"any Level 16\": 80,\n",
    "    \"any Level 17\": 85,\n",
    "    \"any Level 18\": 90,\n",
    "    \"100Exp\": 100,\n",
    "    \"200Exp\": 200,\n",
    "    \"300Exp\": 300,\n",
    "    \"400Exp\": 400,\n",
    "    \"111Exp\": 111,\n",
    "    \"500Exp\": 500,\n",
    "    \"696Exp\": 169,\n",
    "    \"700Exp\": 700,\n",
    "    \"800Exp\": 800,\n",
    "    \"900Exp\": 900,\n",
    "    \"969Exp\": 469,\n",
    "    \"1000Exp\": 1000,\n",
    "    \"Brock\": 140,\n",
    "    \"Misty\": 325,\n",
    "    \"Lt. Surge\": 600\n",
    "}"
   ]
  },
  {
   "cell_type": "code",
   "execution_count": null,
   "metadata": {
    "jupyter": {
     "source_hidden": true
    }
   },
   "outputs": [],
   "source": [
    "def round_exp_to_million(current_exp):\n",
    "    \"\"\"\n",
    "    Calculate the EXP needed to reach exactly 1,000,000.\n",
    "\n",
    "    current_exp: Current EXP value (integer).\n",
    "\n",
    "    Returns: EXP adjustment and direction (\"add\" or \"subtract\").\n",
    "    \"\"\"\n",
    "    target_exp = 1000000\n",
    "    adjustment = target_exp - current_exp\n",
    "    battles_remaining = 0\n",
    "    battle_count = {}  # Dictionary to track how many times each battle is chosen\n",
    "\n",
    "    print(f\"Initial Exp: {current_exp}\")\n",
    "    \n",
    "    # The goal is to get adjustment % 3000 == 0\n",
    "    while adjustment % 3000 != 0:\n",
    "        rounding_exp = adjustment % 3000\n",
    "        # First, deal with non-multiples of 5\n",
    "        while rounding_exp % 5 != 0:\n",
    "            # Filter battles before selection to ensure remainder >= 30\n",
    "            filtered_dict = {k: v for k, v in exp_modifiers.items() if v % 5 != 0 and v <= rounding_exp and (rounding_exp - v) >= 30}\n",
    "            if len(filtered_dict) == 0:\n",
    "                filtered_dict = {k: v for k, v in exp_modifiers.items() if v == 111}\n",
    "            max_value = max(filtered_dict.values())\n",
    "            battle_name = max(filtered_dict, key=filtered_dict.get)\n",
    "            \n",
    "            # Track the number of times this battle is used\n",
    "            if battle_name in battle_count:\n",
    "                battle_count[battle_name] += 1\n",
    "            else:\n",
    "                battle_count[battle_name] = 1\n",
    "                \n",
    "            adjustment -= max_value\n",
    "            rounding_exp = adjustment % 3000\n",
    "\n",
    "        # Then, deal with multiples of 5 but not 10\n",
    "        while rounding_exp % 10 != 0:\n",
    "            # Filter battles before selection to ensure remainder >= 30\n",
    "            filtered_dict = {k: v for k, v in exp_modifiers.items() if v % 5 == 0 and v % 10 != 0 and v <= rounding_exp and (rounding_exp - v) >= 30}\n",
    "            if len(filtered_dict) == 0:\n",
    "                filtered_dict = {k: v for k, v in exp_modifiers.items() if v == 30}\n",
    "            max_value = max(filtered_dict.values())\n",
    "            battle_name = max(filtered_dict, key=filtered_dict.get)\n",
    "            \n",
    "            # Track the number of times this battle is used\n",
    "            if battle_name in battle_count:\n",
    "                battle_count[battle_name] += 1\n",
    "            else:\n",
    "                battle_count[battle_name] = 1\n",
    "                \n",
    "            adjustment -= max_value\n",
    "            rounding_exp = adjustment % 3000\n",
    "\n",
    "        # Finally, deal with exact multiples of 10\n",
    "        while rounding_exp != 0:\n",
    "            # Filter battles before selection to ensure remainder >= 30\n",
    "            filtered_dict = {k: v for k, v in exp_modifiers.items() if v % 10 == 0 and v <= rounding_exp and (rounding_exp - v) >= 30}\n",
    "            if len(filtered_dict) == 0:\n",
    "                filtered_dict = {k: v for k, v in exp_modifiers.items() if v == 30}\n",
    "            max_value = max(filtered_dict.values())\n",
    "            battle_name = max(filtered_dict, key=filtered_dict.get)\n",
    "\n",
    "            # Track the number of times this battle is used\n",
    "            if battle_name in battle_count:\n",
    "                battle_count[battle_name] += 1\n",
    "            else:\n",
    "                battle_count[battle_name] = 1\n",
    "\n",
    "            adjustment -= max_value\n",
    "            rounding_exp = adjustment % 3000\n",
    "    \n",
    "    # Calculate how many full 3000 adjustments are needed\n",
    "    while adjustment > 0:\n",
    "        adjustment -= 3000\n",
    "        battles_remaining += 1\n",
    "    \n",
    "    # Print battle counts\n",
    "    for battle, count in battle_count.items():\n",
    "        print(f\"Battle {battle} {count}X\")\n",
    "    \n",
    "    print(f\"Do {battles_remaining} full 3000 EXP battles\")\n",
    "    print(\"\")"
   ]
  },
  {
   "cell_type": "code",
   "execution_count": null,
   "metadata": {},
   "outputs": [
    {
     "name": "stdout",
     "output_type": "stream",
     "text": [
      "Initial Exp: 55000\n",
      "Do 315 full 3000 EXP battles\n",
      "\n"
     ]
    }
   ],
   "source": [
    "#Insert Starting Exp here Seperated by Commas\n",
    "current_exp = [55000]\n",
    "\n",
    "for i in current_exp:\n",
    "    round_exp_to_million(i)"
   ]
  }
 ],
 "metadata": {
  "kernelspec": {
   "display_name": "Python 3 (ipykernel)",
   "language": "python",
   "name": "python3"
  },
  "language_info": {
   "codemirror_mode": {
    "name": "ipython",
    "version": 3
   },
   "file_extension": ".py",
   "mimetype": "text/x-python",
   "name": "python",
   "nbconvert_exporter": "python",
   "pygments_lexer": "ipython3",
   "version": "3.11.4"
  }
 },
 "nbformat": 4,
 "nbformat_minor": 4
}
